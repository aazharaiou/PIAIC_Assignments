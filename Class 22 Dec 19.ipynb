{
 "cells": [
  {
   "cell_type": "markdown",
   "metadata": {},
   "source": [
    "# Task 1"
   ]
  },
  {
   "cell_type": "markdown",
   "metadata": {},
   "source": [
    "## Method 1"
   ]
  },
  {
   "cell_type": "code",
   "execution_count": 6,
   "metadata": {},
   "outputs": [
    {
     "name": "stdout",
     "output_type": "stream",
     "text": [
      "Enter marks 44\n",
      "You reached E grade \n"
     ]
    }
   ],
   "source": [
    "try:\n",
    "    marks = int(input(\"Enter marks \"))\n",
    "    if(marks >= 90):\n",
    "        print(\"You've got A grade \")\n",
    "    elif(marks >= 80 and marks < 90):\n",
    "        print(\"You've got B grade \")\n",
    "    elif(marks >= 70 and marks < 80):\n",
    "        print(\"You've got C grade \")\n",
    "    elif(marks >= 60 and marks < 70):\n",
    "        print(\"You've got D grade \")\n",
    "    else:\n",
    "        print(\"You reached E grade \")\n",
    "except:\n",
    "    print(\"Entered marks are incorrect\")"
   ]
  },
  {
   "cell_type": "markdown",
   "metadata": {},
   "source": [
    "## Method 2"
   ]
  },
  {
   "cell_type": "code",
   "execution_count": 7,
   "metadata": {},
   "outputs": [
    {
     "name": "stdout",
     "output_type": "stream",
     "text": [
      "Enter marks 55\n",
      "You reached E grade \n"
     ]
    }
   ],
   "source": [
    "try:\n",
    "    marks = int(input(\"Enter marks \"))\n",
    "    if(marks >= 90):\n",
    "        print(\"You've got A grade \")\n",
    "    elif(marks in range(80,90)):\n",
    "        print(\"You've got B grade \")\n",
    "    elif(marks in range(70,80)):\n",
    "        print(\"You've got C grade \")\n",
    "    elif(marks in range(60,70)):\n",
    "        print(\"You've got D grade \")\n",
    "    else:\n",
    "        print(\"You reached E grade \")\n",
    "except:\n",
    "    print(\"Entered marks are incorrect\")"
   ]
  },
  {
   "cell_type": "markdown",
   "metadata": {},
   "source": [
    "# Task 2"
   ]
  },
  {
   "cell_type": "code",
   "execution_count": 19,
   "metadata": {},
   "outputs": [
    {
     "name": "stdout",
     "output_type": "stream",
     "text": [
      "Enter the day the DVD was rented on: thursday\n",
      "Enter the return time: (e.g 8 PM) 6 pm\n",
      "Enter number of days rented 4\n",
      "DVD scratched? y/n n\n",
      "Your total rent is 3.18\n"
     ]
    }
   ],
   "source": [
    "rent = 0\n",
    "rd = input(\"Enter the day the DVD was rented on: \")\n",
    "rt = input(\"Enter the return time: (e.g 8 PM) \").split(' ')\n",
    "days = int(input(\"Enter number of days rented \"))\n",
    "scratched = input(\"DVD scratched? y/n \")\n",
    "    \n",
    "if(int(rt[0]) > 8 and rt[1].lower() == 'pm'):\n",
    "    days += 1\n",
    "    rent = 1.59 * days\n",
    "    if(scratched.lower() == 'y'):\n",
    "        rent+= 1\n",
    "if(rd.lower()== 'sunday'):\n",
    "    rent = 1.59 * days \n",
    "    rent *= 0.7\n",
    "    if(scratched.lower() == 'y'):\n",
    "        rent += 2\n",
    "elif(rd.lower() == 'thursday'):\n",
    "    rent = 1.59 * days\n",
    "    rent /= 2\n",
    "else:\n",
    "    rent = 1.59 * days\n",
    "\n",
    "print(f\"Your total rent is {rent}\")"
   ]
  },
  {
   "cell_type": "code",
   "execution_count": null,
   "metadata": {},
   "outputs": [],
   "source": []
  }
 ],
 "metadata": {
  "kernelspec": {
   "display_name": "Python 3",
   "language": "python",
   "name": "python3"
  },
  "language_info": {
   "codemirror_mode": {
    "name": "ipython",
    "version": 3
   },
   "file_extension": ".py",
   "mimetype": "text/x-python",
   "name": "python",
   "nbconvert_exporter": "python",
   "pygments_lexer": "ipython3",
   "version": "3.7.4"
  }
 },
 "nbformat": 4,
 "nbformat_minor": 2
}
