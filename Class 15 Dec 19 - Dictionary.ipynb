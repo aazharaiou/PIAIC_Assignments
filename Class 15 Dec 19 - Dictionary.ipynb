{
 "cells": [
  {
   "cell_type": "code",
   "execution_count": 2,
   "metadata": {},
   "outputs": [
    {
     "data": {
      "text/plain": [
       "[28, 'Ali', 'A.I']"
      ]
     },
     "execution_count": 2,
     "metadata": {},
     "output_type": "execute_result"
    }
   ],
   "source": [
    "#     0    1     2\n",
    "l1 = [28,'Ali','A.I']\n",
    "#     -3   -2    -1\n",
    "l1"
   ]
  },
  {
   "cell_type": "markdown",
   "metadata": {},
   "source": [
    "# Dictionary"
   ]
  },
  {
   "cell_type": "raw",
   "metadata": {},
   "source": [
    "#key:value = item\n",
    "\n",
    "#{key1: value1,\n",
    "# key2:value2}\n",
    "\n",
    "#dict[key]\n",
    "\n"
   ]
  },
  {
   "cell_type": "code",
   "execution_count": 9,
   "metadata": {},
   "outputs": [
    {
     "data": {
      "text/plain": [
       "{'id': 20, 'name': 'Ali', 'course': 'A.I'}"
      ]
     },
     "execution_count": 9,
     "metadata": {},
     "output_type": "execute_result"
    }
   ],
   "source": [
    "d1 = {'id':20,\n",
    "'name':'Ali',\n",
    "'course':'A.I'}\n",
    "d1"
   ]
  },
  {
   "cell_type": "code",
   "execution_count": 12,
   "metadata": {},
   "outputs": [
    {
     "data": {
      "text/plain": [
       "{'id': 200, 'name': 'Muhammad Hassan', 'course': 'A.I'}"
      ]
     },
     "execution_count": 12,
     "metadata": {},
     "output_type": "execute_result"
    }
   ],
   "source": [
    "d1 = {}\n",
    "d1['id']=200\n",
    "d1['name']='Muhammad Hassan'\n",
    "d1['course']='A.I'\n",
    "d1"
   ]
  },
  {
   "cell_type": "code",
   "execution_count": 16,
   "metadata": {},
   "outputs": [
    {
     "name": "stdout",
     "output_type": "stream",
     "text": [
      "{'id': 20, 'name': 'Ali', 'course': 'A.I'}\n",
      "{}\n",
      "None\n"
     ]
    }
   ],
   "source": [
    "d1 = {'id':20, 'name':'Ali', 'course':'A.I'}\n",
    "print(d1)\n",
    "d1.clear()\n",
    "print(d1)\n",
    "d1 = {'id':20, 'name':'Ali', 'course':'A.I'}\n",
    "d1 = d1.clear()\n",
    "print(d1)"
   ]
  },
  {
   "cell_type": "code",
   "execution_count": 26,
   "metadata": {},
   "outputs": [
    {
     "data": {
      "text/plain": [
       "{'name': ['abc', 'def', 'ghi', 'jkl'],\n",
       " 'course': ['abc', 'def', 'ghi', 'jkl'],\n",
       " 'timing': ['abc', 'def', 'ghi', 'jkl'],\n",
       " 'address': ['abc', 'def', 'ghi', 'jkl']}"
      ]
     },
     "execution_count": 26,
     "metadata": {},
     "output_type": "execute_result"
    }
   ],
   "source": [
    "l1 = ['name','course','timing','address']\n",
    "l2 = ['abc','def','ghi','jkl']\n",
    "d1 = dict.fromkeys(l1,l2)\n",
    "d1"
   ]
  },
  {
   "cell_type": "code",
   "execution_count": 22,
   "metadata": {},
   "outputs": [
    {
     "name": "stdout",
     "output_type": "stream",
     "text": [
      "Enter comma separated valuesone,two,three,four,five,six\n"
     ]
    },
    {
     "data": {
      "text/plain": [
       "{'one': None,\n",
       " 'two': None,\n",
       " 'three': None,\n",
       " 'four': None,\n",
       " 'five': None,\n",
       " 'six': None}"
      ]
     },
     "execution_count": 22,
     "metadata": {},
     "output_type": "execute_result"
    }
   ],
   "source": [
    "st = input(\"Enter comma separated values\")\n",
    "d1 = dict.fromkeys(st.split(\",\"))\n",
    "d1"
   ]
  },
  {
   "cell_type": "code",
   "execution_count": 23,
   "metadata": {},
   "outputs": [
    {
     "name": "stdout",
     "output_type": "stream",
     "text": [
      "Enter comma separated valuesone,two,three,four,five\n",
      "{'one': None, 'two': None, 'three': None, 'four': None, 'five': None}\n"
     ]
    }
   ],
   "source": [
    "print(dict.fromkeys(input(\"Enter comma separated values\").split(\",\")))"
   ]
  },
  {
   "cell_type": "code",
   "execution_count": 29,
   "metadata": {},
   "outputs": [
    {
     "name": "stdout",
     "output_type": "stream",
     "text": [
      "First CSVa,b,c,d\n",
      "Second CSVe,f,g,h\n"
     ]
    },
    {
     "data": {
      "text/plain": [
       "{'a': 'e', 'b': 'f', 'c': 'g', 'd': 'h'}"
      ]
     },
     "execution_count": 29,
     "metadata": {},
     "output_type": "execute_result"
    }
   ],
   "source": [
    "l1 = input(\"First CSV Keys\").split(\",\")\n",
    "l2 = input(\"Second CSV Values\").split(\",\")\n",
    "d1 = {}\n",
    "counter = 0\n",
    "while(counter < len(l1)):\n",
    "    d1[l1[counter]] = l2[counter]\n",
    "    counter += 1\n",
    "d1"
   ]
  },
  {
   "cell_type": "code",
   "execution_count": 30,
   "metadata": {},
   "outputs": [
    {
     "name": "stdout",
     "output_type": "stream",
     "text": [
      "First CSVa,b,c,d\n",
      "Second CSVe,f,g,h\n"
     ]
    },
    {
     "data": {
      "text/plain": [
       "{'a': 'e', 'b': 'f', 'c': 'g', 'd': 'h'}"
      ]
     },
     "execution_count": 30,
     "metadata": {},
     "output_type": "execute_result"
    }
   ],
   "source": [
    "l1 = input(\"First CSV Keys\").split(\",\")\n",
    "l2 = input(\"Second CSV Values\").split(\",\")\n",
    "d1 = dict(zip(l1,l2))\n",
    "d1"
   ]
  },
  {
   "cell_type": "code",
   "execution_count": 39,
   "metadata": {},
   "outputs": [
    {
     "name": "stdout",
     "output_type": "stream",
     "text": [
      "Enter ID 002\n",
      "Enter Name Hafiz Safdar\n",
      "Enter skills Java,PHP,.NET\n"
     ]
    },
    {
     "data": {
      "text/plain": [
       "{'id': '002', 'name': 'Hafiz Safdar', 'skills': ['Java', 'PHP', '.NET']}"
      ]
     },
     "execution_count": 39,
     "metadata": {},
     "output_type": "execute_result"
    }
   ],
   "source": [
    "d = {}\n",
    "d[\"id\"] = input(\"Enter ID \")\n",
    "d['name'] = input(\"Enter Name \")\n",
    "d['skills'] = input(\"Enter skills \").split(\",\")\n",
    "d"
   ]
  },
  {
   "cell_type": "code",
   "execution_count": 35,
   "metadata": {},
   "outputs": [
    {
     "name": "stdout",
     "output_type": "stream",
     "text": [
      "001\n",
      "Not found\n"
     ]
    }
   ],
   "source": [
    "print(d.get('id'))\n",
    "print(d.get('class','Not found'))"
   ]
  },
  {
   "cell_type": "code",
   "execution_count": 36,
   "metadata": {},
   "outputs": [
    {
     "data": {
      "text/plain": [
       "dict_items([('id', '001'), ('name', 'Hafiz Safdar Sultan'), ('skills', ['Python', 'PHP', '.NET'])])"
      ]
     },
     "execution_count": 36,
     "metadata": {},
     "output_type": "execute_result"
    }
   ],
   "source": [
    "d.items()"
   ]
  },
  {
   "cell_type": "code",
   "execution_count": 37,
   "metadata": {},
   "outputs": [
    {
     "data": {
      "text/plain": [
       "{'name': 'Hafiz Safdar Sultan', 'skills': ['Python', 'PHP', '.NET']}"
      ]
     },
     "execution_count": 37,
     "metadata": {},
     "output_type": "execute_result"
    }
   ],
   "source": [
    "d.pop('id')\n",
    "d"
   ]
  },
  {
   "cell_type": "code",
   "execution_count": 38,
   "metadata": {},
   "outputs": [
    {
     "data": {
      "text/plain": [
       "('skills', ['Python', 'PHP', '.NET'])"
      ]
     },
     "execution_count": 38,
     "metadata": {},
     "output_type": "execute_result"
    }
   ],
   "source": [
    "d.popitem()"
   ]
  },
  {
   "cell_type": "code",
   "execution_count": 66,
   "metadata": {},
   "outputs": [
    {
     "name": "stdout",
     "output_type": "stream",
     "text": [
      "{'a': 200, 'b': 600, 'c': 300, 'd': 400}\n",
      "{'a': 200, 'c': 300, 'd': 400, 'b': 600}\n"
     ]
    }
   ],
   "source": [
    "d1 = {'a':200,'c':300,'b':600,'d':400}\n",
    "s_l = dict(sorted(d1.items()))\n",
    "print(s_l)\n",
    "rs_l = dict(sorted(d1.items(),key=lambda x:x[1]))\n",
    "print(rs_l)"
   ]
  },
  {
   "cell_type": "code",
   "execution_count": null,
   "metadata": {},
   "outputs": [],
   "source": [
    "students = []\n",
    "while(True):\n",
    "    d = {}\n",
    "    d[\"id\"] = input(\"Enter ID \")\n",
    "    d['name'] = input(\"Enter Name \")\n",
    "    d['skills'] = input(\"Enter skills \").split(\",\")\n",
    "    students.append(d)\n",
    "    if(input(\"Do you want to enter another? \") == 'n'):\n",
    "        break\n",
    "print(students)"
   ]
  },
  {
   "cell_type": "code",
   "execution_count": null,
   "metadata": {},
   "outputs": [],
   "source": []
  }
 ],
 "metadata": {
  "kernelspec": {
   "display_name": "Python 3",
   "language": "python",
   "name": "python3"
  },
  "language_info": {
   "codemirror_mode": {
    "name": "ipython",
    "version": 3
   },
   "file_extension": ".py",
   "mimetype": "text/x-python",
   "name": "python",
   "nbconvert_exporter": "python",
   "pygments_lexer": "ipython3",
   "version": "3.7.4"
  }
 },
 "nbformat": 4,
 "nbformat_minor": 2
}
