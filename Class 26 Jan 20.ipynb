{
 "cells": [
  {
   "cell_type": "markdown",
   "metadata": {},
   "source": [
    "## File Handling"
   ]
  },
  {
   "cell_type": "code",
   "execution_count": 16,
   "metadata": {},
   "outputs": [
    {
     "name": "stdout",
     "output_type": "stream",
     "text": [
      "this is a test file\n",
      "has two lines\n",
      "this is a test file to check working of file handling\n",
      "this has only two lines"
     ]
    }
   ],
   "source": [
    "f = open(\"test.txt\")\n",
    "for l in f:\n",
    "    print (l, end='')\n",
    "f.close()"
   ]
  },
  {
   "cell_type": "code",
   "execution_count": 4,
   "metadata": {},
   "outputs": [
    {
     "name": "stdout",
     "output_type": "stream",
     "text": [
      "this is a test file to check working of file handling\n",
      "this has only two lines"
     ]
    }
   ],
   "source": [
    "with open(\"test.txt\") as f:\n",
    "    for l in f:\n",
    "        print(l,end=\"\")"
   ]
  },
  {
   "cell_type": "code",
   "execution_count": 6,
   "metadata": {},
   "outputs": [
    {
     "name": "stdout",
     "output_type": "stream",
     "text": [
      "<class 'str'>\n",
      "this is a test file to check working of file handling\n",
      "this has only two lines\n"
     ]
    }
   ],
   "source": [
    "with open(\"test.txt\") as f:\n",
    "    content = f.read()\n",
    "    print(type(content))\n",
    "    print (content)"
   ]
  },
  {
   "cell_type": "code",
   "execution_count": 14,
   "metadata": {},
   "outputs": [
    {
     "name": "stdout",
     "output_type": "stream",
     "text": [
      "this is a test file\n",
      "\n"
     ]
    }
   ],
   "source": [
    "with open(\"test.txt\") as f:\n",
    "    line = f.readline()\n",
    "    print(line)"
   ]
  },
  {
   "cell_type": "code",
   "execution_count": 17,
   "metadata": {},
   "outputs": [
    {
     "name": "stdout",
     "output_type": "stream",
     "text": [
      "['this is a test file\\n', 'has two lines\\n', 'this is a test file to check working of file handling\\n', 'this has only two lines']\n"
     ]
    }
   ],
   "source": [
    "with open(\"test.txt\",\"r\") as f:\n",
    "    lines = f.readlines()\n",
    "    print(lines)"
   ]
  },
  {
   "cell_type": "code",
   "execution_count": 19,
   "metadata": {},
   "outputs": [],
   "source": [
    "with open(\"test1.txt\",\"w+\") as f:\n",
    "    f.writelines(lines)\n",
    "    f.write(\"file created automatically and\\n\")\n",
    "    f.write(\"one line added programatically\")"
   ]
  },
  {
   "cell_type": "code",
   "execution_count": 20,
   "metadata": {},
   "outputs": [],
   "source": [
    "with open(\"test1.txt\",\"a\") as f:\n",
    "    f.writelines(lines)"
   ]
  },
  {
   "cell_type": "code",
   "execution_count": 23,
   "metadata": {},
   "outputs": [
    {
     "name": "stdout",
     "output_type": "stream",
     "text": [
      "['file created automatically and\\n', 'one line added programaticallythis is a test file\\n', 'has two lines\\n', 'this is a test file to check working of file handling\\n', 'this has only two linesthis is a test file\\n', 'has two lines\\n', 'this is a test file to check working of file handling\\n', 'this has only two linesthis is a test file\\n', 'has two lines\\n', 'this is a test file to check working of file handling\\n', 'this has only two linesthis is a test file\\n', 'has two lines\\n', 'this is a test file to check working of file handling\\n', 'this has only two lines']\n"
     ]
    }
   ],
   "source": [
    "with open(\"test1.txt\",\"a+\") as f:\n",
    "    f.writelines(lines)\n",
    "    f.seek(0)\n",
    "    nlines = f.readlines()\n",
    "    print(nlines)"
   ]
  },
  {
   "cell_type": "code",
   "execution_count": 38,
   "metadata": {},
   "outputs": [],
   "source": [
    "list1 = ['A','B','C']\n",
    "with open(\"count.txt\",'r+') as f:\n",
    "    list2 = f.readlines()\n",
    "    list1.reverse()\n",
    "    list2.reverse()\n",
    "    f.seek(0)\n",
    "    f.write(\"\\n\".join(list1))\n",
    "    f.write(\"\\n\")\n",
    "    f.write(\"\\n\".join(list2))"
   ]
  },
  {
   "cell_type": "code",
   "execution_count": 39,
   "metadata": {},
   "outputs": [],
   "source": [
    "from PIL import Image\n",
    "image = Image.open('logo.jpg')\n",
    "image.show()"
   ]
  },
  {
   "cell_type": "code",
   "execution_count": null,
   "metadata": {},
   "outputs": [],
   "source": []
  }
 ],
 "metadata": {
  "kernelspec": {
   "display_name": "Python 3",
   "language": "python",
   "name": "python3"
  },
  "language_info": {
   "codemirror_mode": {
    "name": "ipython",
    "version": 3
   },
   "file_extension": ".py",
   "mimetype": "text/x-python",
   "name": "python",
   "nbconvert_exporter": "python",
   "pygments_lexer": "ipython3",
   "version": "3.7.4"
  }
 },
 "nbformat": 4,
 "nbformat_minor": 2
}
