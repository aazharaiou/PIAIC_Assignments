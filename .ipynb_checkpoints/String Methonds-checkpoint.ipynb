{
 "cells": [
  {
   "cell_type": "markdown",
   "metadata": {},
   "source": [
    "## PIAIC AI Batch 3 Islamabad\n",
    "### Assignment 1 - String Methods\n",
    "#### Submitted by Azhar ul Islam"
   ]
  },
  {
   "cell_type": "code",
   "execution_count": 1,
   "metadata": {},
   "outputs": [],
   "source": [
    "s1 = \"اظہر الاسلام\"\n",
    "s2 = \"Allama Iqbal Open University\""
   ]
  },
  {
   "cell_type": "markdown",
   "metadata": {},
   "source": [
    "***\n",
    "### 1) capitalize\n",
    "`str.capitalize` changes string to sentence case i.e. first letter of the sentence capitalized and rest of the sentence in lower case"
   ]
  },
  {
   "cell_type": "code",
   "execution_count": 2,
   "metadata": {},
   "outputs": [
    {
     "name": "stdout",
     "output_type": "stream",
     "text": [
      "this is just a test sentence (originally in all lower case)\n"
     ]
    },
    {
     "data": {
      "text/plain": [
       "'This is just a test sentence (originally in all lower case)'"
      ]
     },
     "execution_count": 2,
     "metadata": {},
     "output_type": "execute_result"
    }
   ],
   "source": [
    "s3 = \"this is just a test sentence (originally in all lower case)\"\n",
    "print(s3)\n",
    "s3.capitalize()"
   ]
  },
  {
   "cell_type": "markdown",
   "metadata": {},
   "source": [
    "***\n",
    "### 2) casefold method\n",
    "`str.casefold` changes string to lower case."
   ]
  },
  {
   "cell_type": "code",
   "execution_count": 3,
   "metadata": {},
   "outputs": [
    {
     "name": "stdout",
     "output_type": "stream",
     "text": [
      "thIS is jUst a tESt seNtEnCe (originally in strangely mixed case)\n"
     ]
    },
    {
     "data": {
      "text/plain": [
       "'this is just a test sentence (originally in strangely mixed case)'"
      ]
     },
     "execution_count": 3,
     "metadata": {},
     "output_type": "execute_result"
    }
   ],
   "source": [
    "s3 = \"thIS is jUst a tESt seNtEnCe (originally in strangely mixed case)\"\n",
    "print(s3)\n",
    "s3.casefold()"
   ]
  },
  {
   "cell_type": "markdown",
   "metadata": {},
   "source": [
    "***\n",
    "### 3)center method\n",
    "`str.center(length,character)` changes string to lower case. "
   ]
  },
  {
   "cell_type": "code",
   "execution_count": 4,
   "metadata": {},
   "outputs": [
    {
     "name": "stdout",
     "output_type": "stream",
     "text": [
      "__________________________________اظہر الاسلام__________________________________\n",
      "__________________________Allama Iqbal Open University__________________________\n"
     ]
    }
   ],
   "source": [
    "print(s1.center(80,'_'))\n",
    "print(s2.center(80,'_'))"
   ]
  },
  {
   "cell_type": "markdown",
   "metadata": {},
   "source": [
    "***\n",
    "### 4) count method\n",
    "`string.count(value, start, end) ` counts number of 'value' instances in string. "
   ]
  },
  {
   "cell_type": "code",
   "execution_count": 5,
   "metadata": {},
   "outputs": [
    {
     "name": "stdout",
     "output_type": "stream",
     "text": [
      "We are learning Python at PIAIC Islamabad chapter. Python is an amazing language. \n",
      "I am personally a fan of Python. I like Python because of it's simplicity and clean syntax.\n",
      "Python is a general purpose language. I am planning to get expertise in Python's usage in \n",
      "Artificial Intelligence, as well as in web app development\n",
      "\n",
      "\"Python\" appears 6 times in above paragraph\n"
     ]
    }
   ],
   "source": [
    "s3='''We are learning Python at PIAIC Islamabad chapter. Python is an amazing language. \n",
    "I am personally a fan of Python. I like Python because of it's simplicity and clean syntax.\n",
    "Python is a general purpose language. I am planning to get expertise in Python's usage in \n",
    "Artificial Intelligence, as well as in web app development'''\n",
    "print(s3)\n",
    "print('')\n",
    "c = s3.count('Python')\n",
    "print(f'\"Python\" appears {c} times in above paragraph')"
   ]
  },
  {
   "cell_type": "markdown",
   "metadata": {},
   "source": [
    "***\n",
    "### 5) encode method\n",
    "`string.encode(encoding=encoding, errors=errors)` counts number of 'value' instances in string. "
   ]
  },
  {
   "cell_type": "code",
   "execution_count": 6,
   "metadata": {},
   "outputs": [
    {
     "name": "stdout",
     "output_type": "stream",
     "text": [
      "اظہر الاسلام\n",
      "UTF encoding of this string looks like\n",
      "b'\\xd8\\xa7\\xd8\\xb8\\xdb\\x81\\xd8\\xb1 \\xd8\\xa7\\xd9\\x84\\xd8\\xa7\\xd8\\xb3\\xd9\\x84\\xd8\\xa7\\xd9\\x85'\n",
      "\n",
      "As this string cannot be converted to ASCII without errors so\n",
      "ASCII encoding of this string with errors parameter set to xmlcharrefreplace looks like\n",
      "b'&#1575;&#1592;&#1729;&#1585; &#1575;&#1604;&#1575;&#1587;&#1604;&#1575;&#1605;'\n"
     ]
    }
   ],
   "source": [
    "print(s1)\n",
    "print('UTF encoding of this string looks like')\n",
    "print(s1.encode())\n",
    "print('')\n",
    "print('As this string cannot be converted to ASCII without errors so')\n",
    "print('ASCII encoding of this string with errors parameter set to xmlcharrefreplace looks like')\n",
    "print(s1.encode(encoding=\"ascii\",errors=\"xmlcharrefreplace\"))"
   ]
  },
  {
   "cell_type": "markdown",
   "metadata": {},
   "source": [
    "***\n",
    "### 6) endswith method\n",
    "`string.endswith(value, start, end)` checks if \"string\" ends with \"value\". "
   ]
  },
  {
   "cell_type": "code",
   "execution_count": 7,
   "metadata": {},
   "outputs": [
    {
     "name": "stdout",
     "output_type": "stream",
     "text": [
      "True\n",
      "False\n"
     ]
    }
   ],
   "source": [
    "print(s3.endswith('development'))\n",
    "print(s3.endswith('world'))"
   ]
  },
  {
   "cell_type": "markdown",
   "metadata": {},
   "source": [
    "***\n",
    "### 7) expandtabs method\n",
    "`string.exandtabs(tabsize)` converts \"tabs\" i.e. \\t characters in string to number of spaces given as argument. "
   ]
  },
  {
   "cell_type": "code",
   "execution_count": 8,
   "metadata": {},
   "outputs": [
    {
     "name": "stdout",
     "output_type": "stream",
     "text": [
      "H   e   l   l   o\n"
     ]
    }
   ],
   "source": [
    "s3 = \"H\\te\\tl\\tl\\to\"\n",
    "\n",
    "print(s3.expandtabs(4))"
   ]
  },
  {
   "cell_type": "markdown",
   "metadata": {},
   "source": [
    "***\n",
    "### 8) find method\n",
    "`string.find(value, start, end)` finds \"value\" in \"string\" and returns the index of \"value\" in \"string\". \n",
    "### 9) index method\n",
    "`str.index(sub, start, end)` finds \"value\" in \"string\" and returns the index of \"value\" in \"string\". "
   ]
  },
  {
   "cell_type": "code",
   "execution_count": 9,
   "metadata": {},
   "outputs": [
    {
     "name": "stdout",
     "output_type": "stream",
     "text": [
      "In the provided string first instance of \"PIAIC\" is found at index: \n",
      "26\n",
      "26\n"
     ]
    }
   ],
   "source": [
    "s3='''We are learning Python at PIAIC Islamabad chapter. Python is an amazing language. \n",
    "I am personally a fan of Python. I like Python because of it's simplicity and clean syntax.\n",
    "Python is a general purpose language. I am planning to get expertise in Python's usage in \n",
    "Artificial Intelligence, as well as in web app development'''\n",
    "print('In the provided string first instance of \"PIAIC\" is found at index: ')\n",
    "print(s3.find('PIAIC'))\n",
    "print(s3.index('PIAIC'))"
   ]
  },
  {
   "cell_type": "markdown",
   "metadata": {},
   "source": [
    "***\n",
    "### 10) format method\n",
    "`string.format(value1, value2...)` formats the specified value(s) and insert them inside the string's placeholder."
   ]
  },
  {
   "cell_type": "code",
   "execution_count": 10,
   "metadata": {},
   "outputs": [
    {
     "name": "stdout",
     "output_type": "stream",
     "text": [
      "My name is Azhar ul Islam, I work for AIOU as Assistant Director IT.\n"
     ]
    }
   ],
   "source": [
    "print(\"My name is {name}, I work for {organization} as {designation}.\".format(name='Azhar ul Islam',designation='Assistant Director IT',organization='AIOU'))"
   ]
  },
  {
   "cell_type": "markdown",
   "metadata": {},
   "source": [
    "***\n",
    "### 11) format_map method\n",
    "`string.format_map(dictionary)` formats the specified string dictionary."
   ]
  },
  {
   "cell_type": "code",
   "execution_count": 11,
   "metadata": {},
   "outputs": [
    {
     "name": "stdout",
     "output_type": "stream",
     "text": [
      "My name is Azhar ul Islam, I work for AIOU as Assistant Director IT.\n"
     ]
    }
   ],
   "source": [
    "intro={'name':'Azhar ul Islam','designation':'Assistant Director IT','organization':'AIOU'}\n",
    "print(\"My name is {name}, I work for {organization} as {designation}.\".format_map(intro))"
   ]
  },
  {
   "cell_type": "markdown",
   "metadata": {},
   "source": [
    "***\n",
    "### 12) isalnum method\n",
    "`name.isalnum()` checks if the string comprises only alpha-numeric characters, if yes returns True, else returns False. Spaces don't count as alpha-numeric characters"
   ]
  },
  {
   "cell_type": "code",
   "execution_count": 12,
   "metadata": {},
   "outputs": [
    {
     "name": "stdout",
     "output_type": "stream",
     "text": [
      "True\n",
      "False\n"
     ]
    }
   ],
   "source": [
    "print(\"PIAIC\".isalnum())\n",
    "print(\"PIAIC Batch 3\".isalnum())"
   ]
  },
  {
   "cell_type": "markdown",
   "metadata": {},
   "source": [
    "***\n",
    "### 13) isalpha method\n",
    "`string.isalpha()` checks if the string comprises only alphabets, if yes returns True, else returns False. Spaces don't count as alphabets characters"
   ]
  },
  {
   "cell_type": "code",
   "execution_count": 13,
   "metadata": {},
   "outputs": [
    {
     "name": "stdout",
     "output_type": "stream",
     "text": [
      "True\n",
      "False\n"
     ]
    }
   ],
   "source": [
    "print(\"PIAIC\".isalpha())\n",
    "print(\"President Initiative of Artificial Intelligence and Computing\".isalpha())"
   ]
  },
  {
   "cell_type": "markdown",
   "metadata": {},
   "source": [
    "***\n",
    "### 14) isdecimal method\n",
    "`string.isdecimal()` checks if the string is a number (in any language)"
   ]
  },
  {
   "cell_type": "code",
   "execution_count": 14,
   "metadata": {},
   "outputs": [
    {
     "name": "stdout",
     "output_type": "stream",
     "text": [
      "34²\n",
      "True\n",
      "٣٨\n",
      "True\n",
      "٣٫٨\n",
      "False\n"
     ]
    }
   ],
   "source": [
    "s3=\"34\\u00B2\"\n",
    "print(s3)\n",
    "print(s3.isdigit())\n",
    "s3=\"\\u0663\\u0668\"\n",
    "print(s3)\n",
    "print(s3.isdecimal())\n",
    "s3=\"\\u0663\\u066B\\u0668\"\n",
    "print(s3)\n",
    "print(s3.isdecimal())"
   ]
  },
  {
   "cell_type": "code",
   "execution_count": 15,
   "metadata": {},
   "outputs": [
    {
     "name": "stdout",
     "output_type": "stream",
     "text": [
      "34²\n",
      "True\n",
      "٣٨\n",
      "True\n",
      "٣٫٨\n",
      "False\n"
     ]
    }
   ],
   "source": [
    "s3=\"34\\u00B2\"\n",
    "print(s3)\n",
    "print(s3.isdigit())\n",
    "s3=\"\\u0663\\u0668\"\n",
    "print(s3)\n",
    "print(s3.isdigit())\n",
    "s3=\"\\u0663\\u066B\\u0668\"\n",
    "print(s3)\n",
    "print(s3.isdigit())"
   ]
  },
  {
   "cell_type": "markdown",
   "metadata": {},
   "source": [
    "***\n",
    "### 15)isidentifier method\n",
    "`string.isidentifier()` checks if the string can be used as identifier e.g. a variable name etc."
   ]
  },
  {
   "cell_type": "code",
   "execution_count": 16,
   "metadata": {},
   "outputs": [
    {
     "name": "stdout",
     "output_type": "stream",
     "text": [
      "Python\n",
      "True\n",
      "__Python__\n",
      "True\n",
      "Py thon\n",
      "False\n",
      "22Python\n",
      "False\n",
      "\n",
      "False\n"
     ]
    }
   ],
   "source": [
    "str = 'Python'\n",
    "print(str)\n",
    "print(str.isidentifier())\n",
    "\n",
    "str = '__Python__'\n",
    "print(str)\n",
    "print(str.isidentifier())\n",
    "\n",
    "str = 'Py thon'\n",
    "print(str)\n",
    "print(str.isidentifier())\n",
    "\n",
    "str = '22Python'\n",
    "print(str)\n",
    "print(str.isidentifier())\n",
    "\n",
    "str = ''\n",
    "print(str)\n",
    "print(str.isidentifier())"
   ]
  },
  {
   "cell_type": "markdown",
   "metadata": {},
   "source": [
    "***\n",
    "### 16)islower method\n",
    "`string.islower()` checks if the string is in lower case."
   ]
  },
  {
   "cell_type": "code",
   "execution_count": 4,
   "metadata": {},
   "outputs": [
    {
     "name": "stdout",
     "output_type": "stream",
     "text": [
      "the whole sentence in lower case\n",
      "True\n",
      "The Whole Sentence In Lower Case\n",
      "False\n"
     ]
    }
   ],
   "source": [
    "s3 = 'the whole sentence in lower case'\n",
    "print(s3)\n",
    "print(s3.islower())\n",
    "print(s3.title())\n",
    "print(s3.title().islower())"
   ]
  },
  {
   "cell_type": "markdown",
   "metadata": {},
   "source": [
    "***\n",
    "### 17)isprintable method\n",
    "`string.isprintable()` checks if the all the characters of the string are printable, returns False if not."
   ]
  },
  {
   "cell_type": "code",
   "execution_count": 9,
   "metadata": {},
   "outputs": [
    {
     "name": "stdout",
     "output_type": "stream",
     "text": [
      "Yes! I am all prinable\n",
      "True\n",
      "Yes! I am all prinable\t\n",
      "False\n"
     ]
    }
   ],
   "source": [
    "s3=\"Yes! I am all prinable\"\n",
    "print(s3)\n",
    "print(s3.isprintable())\n",
    "s3 = s3 + \"\\u0009\"\n",
    "print(s3)\n",
    "print(s3.isprintable())"
   ]
  },
  {
   "cell_type": "markdown",
   "metadata": {},
   "source": [
    "***\n",
    "### 18) isspace method\n",
    "`string.isspace()` returns True if all the characters of the string are 'white space characters' like spaces, tabs or linefeeds etc. else returns False"
   ]
  },
  {
   "cell_type": "code",
   "execution_count": 11,
   "metadata": {},
   "outputs": [
    {
     "name": "stdout",
     "output_type": "stream",
     "text": [
      "True\n"
     ]
    }
   ],
   "source": [
    "s3='''\n",
    "\n",
    "\n",
    "'''\n",
    "print(s3.isspace())"
   ]
  },
  {
   "cell_type": "markdown",
   "metadata": {},
   "source": [
    "***\n",
    "### 19) istitle method\n",
    "`string.istitle()` returns True the string is in \"Title Case\" i.e. first letter of each word is capital and all other letters are in lower case."
   ]
  },
  {
   "cell_type": "code",
   "execution_count": 12,
   "metadata": {},
   "outputs": [
    {
     "name": "stdout",
     "output_type": "stream",
     "text": [
      "Yes I Am All In Title Case\n",
      "True\n"
     ]
    }
   ],
   "source": [
    "s3=\"Yes I Am All In Title Case\"\n",
    "print(s3)\n",
    "print(s3.istitle())"
   ]
  },
  {
   "cell_type": "markdown",
   "metadata": {},
   "source": [
    "***\n",
    "### 20) isupper method\n",
    "`string.isupper()` returns True the string is all capital case."
   ]
  },
  {
   "cell_type": "code",
   "execution_count": 13,
   "metadata": {},
   "outputs": [
    {
     "name": "stdout",
     "output_type": "stream",
     "text": [
      "WRITING ALL CAPITAL IS EASY, JUST PRESS CAPS LOCK BEFORE TYPING\n",
      "True\n"
     ]
    }
   ],
   "source": [
    "s3='WRITING ALL CAPITAL IS EASY, JUST PRESS CAPS LOCK BEFORE TYPING'\n",
    "print(s3)\n",
    "print(s3.isupper())"
   ]
  },
  {
   "cell_type": "markdown",
   "metadata": {},
   "source": [
    "***\n",
    "### 21) join method\n",
    "`string.join(iterable)` Joins the elements of iterables (list, tuple or set etc.) by sandwitching given string between elements and returns the resulting string"
   ]
  },
  {
   "cell_type": "code",
   "execution_count": 14,
   "metadata": {},
   "outputs": [
    {
     "name": "stdout",
     "output_type": "stream",
     "text": [
      "Monday comes before Tuesday comes before Wednesday comes before Thursday comes before Friday comes before Saturday comes before Sunday\n"
     ]
    }
   ],
   "source": [
    "days=['Monday','Tuesday','Wednesday','Thursday','Friday','Saturday','Sunday']\n",
    "print(' comes before '.join(days))"
   ]
  },
  {
   "cell_type": "markdown",
   "metadata": {},
   "source": [
    "***\n",
    "### 22) ljust method\n",
    "`string.join(number,character)` left justifies the string in given space as given by the number and fills the rest with given character, default fill character is space"
   ]
  },
  {
   "cell_type": "code",
   "execution_count": 16,
   "metadata": {},
   "outputs": [
    {
     "name": "stdout",
     "output_type": "stream",
     "text": [
      "I am Left Justified.........................................\n"
     ]
    }
   ],
   "source": [
    "print('I am Left Justified'.ljust(60,'.'))"
   ]
  },
  {
   "cell_type": "markdown",
   "metadata": {},
   "source": [
    "***\n",
    "### 22) lower method\n",
    "`string.lower()` converts the string to lower character"
   ]
  },
  {
   "cell_type": "code",
   "execution_count": 18,
   "metadata": {},
   "outputs": [
    {
     "name": "stdout",
     "output_type": "stream",
     "text": [
      "I am Not in all Lower Case\n",
      "i am not in all lower case\n"
     ]
    }
   ],
   "source": [
    "s3='I am Not in all Lower Case'\n",
    "print(s3)\n",
    "print(s3.lower())"
   ]
  },
  {
   "cell_type": "markdown",
   "metadata": {},
   "source": [
    "***\n",
    "### 23) lstrip method\n",
    "`string.lstrip(character)` removes any leading characters (space is the default leading character to remove)"
   ]
  },
  {
   "cell_type": "code",
   "execution_count": 20,
   "metadata": {},
   "outputs": [
    {
     "name": "stdout",
     "output_type": "stream",
     "text": [
      "of all languages Python      is my favorite\n"
     ]
    }
   ],
   "source": [
    "s3 = \"     Python     \"\n",
    "\n",
    "s2 = s3.lstrip()\n",
    "\n",
    "print(\"of all languages\", s2, \"is my favorite\") "
   ]
  },
  {
   "cell_type": "markdown",
   "metadata": {},
   "source": [
    "***\n",
    "### 24) maketrans method\n",
    "`string.maketrans(a,b,c)` returns a translation table with a 1-to-1 mapping of a Unicode ordinal to its translation/replacement."
   ]
  },
  {
   "cell_type": "code",
   "execution_count": 35,
   "metadata": {},
   "outputs": [
    {
     "name": "stdout",
     "output_type": "stream",
     "text": [
      "{97: 66, 98: 67, 99: 65, 100: None}\n"
     ]
    }
   ],
   "source": [
    "s3='abc'\n",
    "transtable = s3.maketrans('abcd','BCAD','d')\n",
    "print(transtable)"
   ]
  },
  {
   "cell_type": "markdown",
   "metadata": {},
   "source": [
    "***\n",
    "### 25) partition method\n",
    "`string.partition(key)` makes a tuple from the given string and returns. The tuple contains following three elements:\n",
    "1. Everything before key\n",
    "2. The key itself\n",
    "3. Everything after the key"
   ]
  },
  {
   "cell_type": "code",
   "execution_count": 23,
   "metadata": {},
   "outputs": [
    {
     "name": "stdout",
     "output_type": "stream",
     "text": [
      "('of all languages ', 'Python', ' is my favorite')\n"
     ]
    }
   ],
   "source": [
    "s3 = \"of all languages Python is my favorite\"\n",
    "print(s3.partition('Python'))"
   ]
  },
  {
   "cell_type": "markdown",
   "metadata": {},
   "source": [
    "***\n",
    "### 26) replace method\n",
    "`string.replace(a,b)` returns a strings after replacing 'a' with 'b' from string."
   ]
  },
  {
   "cell_type": "code",
   "execution_count": 24,
   "metadata": {},
   "outputs": [
    {
     "name": "stdout",
     "output_type": "stream",
     "text": [
      "Python is my favourite and most used language\n"
     ]
    }
   ],
   "source": [
    "s3 = \"Python is my favourite language\"\n",
    "print(s3.replace('favourite','favourite and most used'))"
   ]
  },
  {
   "cell_type": "markdown",
   "metadata": {},
   "source": [
    "***\n",
    "### 27) rfind method\n",
    "`string.rfind(a)` returns a the last position of 'a' in 'string' else returns -1.\n",
    "### 28) rindex method\n",
    "`string.rindex(a)` returns a the last position of 'a' in 'string' else raises exception."
   ]
  },
  {
   "cell_type": "code",
   "execution_count": 25,
   "metadata": {},
   "outputs": [
    {
     "name": "stdout",
     "output_type": "stream",
     "text": [
      "One potato two potato\n",
      "15\n",
      "15\n",
      "-1\n"
     ]
    }
   ],
   "source": [
    "s3='One potato two potato'\n",
    "print(s3)\n",
    "print(s3.rfind('potato'))\n",
    "print(s3.rindex('potato'))\n",
    "print(s3.rfind('chilli'))"
   ]
  },
  {
   "cell_type": "markdown",
   "metadata": {},
   "source": [
    "***\n",
    "### 29) rjust method\n",
    "`string.rjust(length, char)` will right align the string, using a specified character (space is default) as the fill character."
   ]
  },
  {
   "cell_type": "code",
   "execution_count": 26,
   "metadata": {},
   "outputs": [
    {
     "name": "stdout",
     "output_type": "stream",
     "text": [
      "______________________________________________a small string\n"
     ]
    }
   ],
   "source": [
    "s3 = 'a small string'\n",
    "print(s3.rjust(60,'_'))"
   ]
  },
  {
   "cell_type": "markdown",
   "metadata": {},
   "source": [
    "***\n",
    "### 30) rpartition method\n",
    "`string.rpartition(key)` works like partition method as shown above in number 25, but uses the last occurance of the key."
   ]
  },
  {
   "cell_type": "code",
   "execution_count": 28,
   "metadata": {},
   "outputs": [
    {
     "name": "stdout",
     "output_type": "stream",
     "text": [
      "('I could eat bananas all day, ', 'bananas', ' are my favorite fruit')\n"
     ]
    }
   ],
   "source": [
    "s3 = \"I could eat bananas all day, bananas are my favorite fruit\"\n",
    "print(s3.rpartition(\"bananas\"))"
   ]
  },
  {
   "cell_type": "markdown",
   "metadata": {},
   "source": [
    "***\n",
    "### 31) rsplit method\n",
    "`string.rsplit(separator, maxsplit)` method splits a string into a list, starting from the right.\n",
    "If no \"max\" is specified, this method will return the same as the split() method.\n",
    "\n",
    "### 32) split method\n",
    "`string.split(separator)` splits a string into a list."
   ]
  },
  {
   "cell_type": "code",
   "execution_count": 29,
   "metadata": {},
   "outputs": [
    {
     "name": "stdout",
     "output_type": "stream",
     "text": [
      "['apple, banana', 'cherry']\n",
      "['apple', 'banana', 'cherry']\n"
     ]
    }
   ],
   "source": [
    "s3 = \"apple, banana, cherry\"\n",
    "\n",
    "# setting the maxsplit parameter to 1, will return a list with 2 elements!\n",
    "print(s3.rsplit(\", \", 1))\n",
    "\n",
    "print(s3.split(\", \"))\n"
   ]
  },
  {
   "cell_type": "markdown",
   "metadata": {},
   "source": [
    "***\n",
    "### 33) splitlines method\n",
    "`string.splitlines()` splits a string into a list. The splitting is done at line breaks."
   ]
  },
  {
   "cell_type": "code",
   "execution_count": 30,
   "metadata": {},
   "outputs": [
    {
     "name": "stdout",
     "output_type": "stream",
     "text": [
      "['We are learning Python at PIAIC Islamabad chapter. Python is an amazing language. ', \"I am personally a fan of Python. I like Python because of it's simplicity and clean syntax.\", \"Python is a general purpose language. I am planning to get expertise in Python's usage in \", 'Artificial Intelligence, as well as in web app development']\n"
     ]
    }
   ],
   "source": [
    "s3='''We are learning Python at PIAIC Islamabad chapter. Python is an amazing language. \n",
    "I am personally a fan of Python. I like Python because of it's simplicity and clean syntax.\n",
    "Python is a general purpose language. I am planning to get expertise in Python's usage in \n",
    "Artificial Intelligence, as well as in web app development'''\n",
    "print(s3.splitlines())"
   ]
  },
  {
   "cell_type": "markdown",
   "metadata": {},
   "source": [
    "***\n",
    "### 34) startswith method\n",
    "`string.startswith(value, start, end)` returns True if the string starts with the specified value, otherwise False."
   ]
  },
  {
   "cell_type": "code",
   "execution_count": 31,
   "metadata": {},
   "outputs": [
    {
     "name": "stdout",
     "output_type": "stream",
     "text": [
      "True\n"
     ]
    }
   ],
   "source": [
    "s3 = \"Hello, welcome to my world.\"\n",
    "print(s3.startswith(\"wel\", 7, 20))\n",
    " "
   ]
  },
  {
   "cell_type": "markdown",
   "metadata": {},
   "source": [
    "***\n",
    "### 35) strip method\n",
    "`string.strip(characters)` removes any leading (spaces at the beginning) and trailing (spaces at the end) characters (space is the default leading character to remove)"
   ]
  },
  {
   "cell_type": "code",
   "execution_count": 32,
   "metadata": {},
   "outputs": [
    {
     "name": "stdout",
     "output_type": "stream",
     "text": [
      "of all fruits apple is my favorite\n"
     ]
    }
   ],
   "source": [
    "s3 = \"     apple     \"\n",
    "print(\"of all fruits\", s3.strip(), \"is my favorite\") "
   ]
  },
  {
   "cell_type": "markdown",
   "metadata": {},
   "source": [
    "***\n",
    "### 36) swapcase method\n",
    "`string.swapcase() ` returns a string where all the upper case letters are lower case and vice versa."
   ]
  },
  {
   "cell_type": "code",
   "execution_count": 33,
   "metadata": {},
   "outputs": [
    {
     "name": "stdout",
     "output_type": "stream",
     "text": [
      "thIS is jUst a tESt seNtEnCe (originally in strangely mixed case)\n",
      "Now the case is being swapped\n",
      "THis IS JuST A TesT SEnTeNcE (ORIGINALLY IN STRANGELY MIXED CASE)\n"
     ]
    }
   ],
   "source": [
    "s3 = \"thIS is jUst a tESt seNtEnCe (originally in strangely mixed case)\"\n",
    "print(s3)\n",
    "print('Now the case is being swapped...')\n",
    "print(s3.swapcase())"
   ]
  },
  {
   "cell_type": "markdown",
   "metadata": {},
   "source": [
    "***\n",
    "### 37) title method\n",
    "`string.title()`  returns a string where the first character in every word is upper case. Like a header, or a title.\n",
    "If the word contains a number or a symbol, the first letter after that will be converted to upper case."
   ]
  },
  {
   "cell_type": "code",
   "execution_count": 34,
   "metadata": {},
   "outputs": [
    {
     "name": "stdout",
     "output_type": "stream",
     "text": [
      "Hello B2B2B2 And 3G3G3G\n"
     ]
    }
   ],
   "source": [
    "txt = \"hello b2b2b2 and 3g3g3g\"\n",
    "print(txt.title())"
   ]
  },
  {
   "cell_type": "markdown",
   "metadata": {},
   "source": [
    "***\n",
    "### 38) translate method\n",
    "`string.translate(table)` takes the translation table to replace/translate characters in the given string as per the mapping table."
   ]
  },
  {
   "cell_type": "code",
   "execution_count": 36,
   "metadata": {},
   "outputs": [
    {
     "name": "stdout",
     "output_type": "stream",
     "text": [
      "BCCBCCBCAAABBCC\n"
     ]
    }
   ],
   "source": [
    "s3 = 'ddabbabbabcccddaabb'\n",
    "print(s3.translate(transtable))"
   ]
  },
  {
   "cell_type": "markdown",
   "metadata": {},
   "source": [
    "***\n",
    "### 39) upper method\n",
    "`string.upper()` returns a string where all characters are in upper case."
   ]
  },
  {
   "cell_type": "code",
   "execution_count": 37,
   "metadata": {},
   "outputs": [
    {
     "name": "stdout",
     "output_type": "stream",
     "text": [
      "an all lower case string\n",
      "AN ALL LOWER CASE STRING\n"
     ]
    }
   ],
   "source": [
    "s3='an all lower case string'\n",
    "print(s3)\n",
    "print(s3.upper())"
   ]
  },
  {
   "cell_type": "markdown",
   "metadata": {},
   "source": [
    "***\n",
    "### 40) zfill method\n",
    "`string.zfil(length)` adds zeros (0) at the beginning of the string, until it reaches the specified length."
   ]
  },
  {
   "cell_type": "code",
   "execution_count": 38,
   "metadata": {},
   "outputs": [
    {
     "name": "stdout",
     "output_type": "stream",
     "text": [
      "00352\n"
     ]
    }
   ],
   "source": [
    "num1 = '352'\n",
    "print(num1.zfill(5))"
   ]
  },
  {
   "cell_type": "code",
   "execution_count": null,
   "metadata": {},
   "outputs": [],
   "source": []
  }
 ],
 "metadata": {
  "kernelspec": {
   "display_name": "Python 3",
   "language": "python",
   "name": "python3"
  },
  "language_info": {
   "codemirror_mode": {
    "name": "ipython",
    "version": 3
   },
   "file_extension": ".py",
   "mimetype": "text/x-python",
   "name": "python",
   "nbconvert_exporter": "python",
   "pygments_lexer": "ipython3",
   "version": "3.7.5"
  }
 },
 "nbformat": 4,
 "nbformat_minor": 2
}
