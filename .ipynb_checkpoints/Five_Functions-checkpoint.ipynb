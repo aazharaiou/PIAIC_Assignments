{
 "cells": [
  {
   "cell_type": "code",
   "execution_count": null,
   "metadata": {},
   "outputs": [],
   "source": [
    "print(\"First function: upper() \\n\")\n",
    "name = input(\"Enter your name \")\n",
    "print(\"Your name in capital letters is {}\".format(name.upper()))"
   ]
  },
  {
   "cell_type": "code",
   "execution_count": null,
   "metadata": {},
   "outputs": [],
   "source": [
    "print(\"Second function abs() \")\n",
    "num1 = input(\"Enter any number (positive or negative) \")\n",
    "if(int(num1) > 0):\n",
    "    print(\"You are {} steps on right of zero on number line \".format(abs(int(num1))))\n",
    "elif(int(num1) < 0):\n",
    "    print(\"You are {} steps on left of zero on number line \".format(abs(int(num1))))\n",
    "else:\n",
    "    print(\"You are standing at absolute center of number line \")"
   ]
  },
  {
   "cell_type": "code",
   "execution_count": null,
   "metadata": {},
   "outputs": [],
   "source": [
    "print(\"Third function ord() \")\n",
    "ch1 = input(\"Enter just one character and I will give you it's code \")\n",
    "if(len(ch1)==1):\n",
    "    print(\"The code for {0} is {1} \".format(ch1,ord(ch1)))\n",
    "else:\n",
    "    print(\"You are unable to follow even a simple command, I asked for only one character. \")"
   ]
  },
  {
   "cell_type": "code",
   "execution_count": null,
   "metadata": {},
   "outputs": [],
   "source": [
    "print(\"Fourth function exec()\\n\")\n",
    "print(\"Enter a python phrase, and I will run it and tell you it's output\\n\")\n",
    "phrase = input(\"For example : a=4;b=5;print(a*b) \")\n",
    "print(exec(phrase))"
   ]
  },
  {
   "cell_type": "code",
   "execution_count": null,
   "metadata": {},
   "outputs": [],
   "source": [
    "print(\"Fifth function hash()\\n\")\n",
    "word = input(\"Enter any word and I will encrypt it and return the hash code \")\n",
    "if(len(word)>0):\n",
    "    print(hash(word))\n",
    "else:\n",
    "    print(\"I think you forgot to enter anything in the text box \")"
   ]
  }
 ],
 "metadata": {
  "kernelspec": {
   "display_name": "Python 3",
   "language": "python",
   "name": "python3"
  },
  "language_info": {
   "codemirror_mode": {
    "name": "ipython",
    "version": 3
   },
   "file_extension": ".py",
   "mimetype": "text/x-python",
   "name": "python",
   "nbconvert_exporter": "python",
   "pygments_lexer": "ipython3",
   "version": "3.7.3"
  }
 },
 "nbformat": 4,
 "nbformat_minor": 2
}
