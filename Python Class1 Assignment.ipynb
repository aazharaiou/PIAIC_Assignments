{
 "cells": [
  {
   "cell_type": "markdown",
   "metadata": {},
   "source": [
    "# PIAIC Batch 3 Islamabad\n",
    "\n",
    "** Assignment submitted by: Azhar ul Islam **\n"
   ]
  },
  {
   "cell_type": "code",
   "execution_count": null,
   "metadata": {},
   "outputs": [],
   "source": [
    "name=input(\"Enter your name \")\n",
    "fname = input(\"Enter your father name \")\n",
    "phy = input(\"Enter physics marks \")\n",
    "che = input(\"Enter chemistry marks \")\n",
    "mat = input(\"Enter maths marks \")\n",
    "eng = input(\"Enter english marks \")\n",
    "urd = input(\"Enter urdu marks \")\n",
    "tot = int(phy) + int(che) + int(mat) + int(eng) + int(urd)\n",
    "per = (tot/500)*100\n",
    "msg = \"\"\"\n",
    "Student's name  : {}\n",
    "Father's name   : {}\n",
    "Physics marks   : {}\n",
    "Chemistry marks : {}\n",
    "Maths marks     : {}\n",
    "English marks   : {}\n",
    "Urdu marks      : {}\n",
    "Total marks     : 500\n",
    "Obtained marks  : {}\n",
    "Percentage      : {}\n",
    "\"\"\"\n",
    "print(msg.format(name,fname,phy,che,mat,eng,urd,tot,per))"
   ]
  },
  {
   "cell_type": "code",
   "execution_count": null,
   "metadata": {},
   "outputs": [],
   "source": []
  }
 ],
 "metadata": {
  "kernelspec": {
   "display_name": "Python 3",
   "language": "python",
   "name": "python3"
  },
  "language_info": {
   "codemirror_mode": {
    "name": "ipython",
    "version": 3
   },
   "file_extension": ".py",
   "mimetype": "text/x-python",
   "name": "python",
   "nbconvert_exporter": "python",
   "pygments_lexer": "ipython3",
   "version": "3.7.3"
  }
 },
 "nbformat": 4,
 "nbformat_minor": 2
}
